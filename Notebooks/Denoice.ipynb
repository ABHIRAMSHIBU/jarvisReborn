{
 "cells": [
  {
   "cell_type": "code",
   "execution_count": 7,
   "metadata": {},
   "outputs": [],
   "source": [
    "def clean(name):\n",
    "    f=open(\"dirty/\"+name,\"r\")\n",
    "    f1=open(\"clean/\"+name,\"w\")\n",
    "    from IPython.display import clear_output\n",
    "    error=0\n",
    "    while(True):\n",
    "        z=f.readline().strip()\n",
    "        if(z==\"\"):\n",
    "            error+=1\n",
    "        else:\n",
    "            error=0\n",
    "            try:\n",
    "                z=abs(float(z))\n",
    "                if(z>1):\n",
    "                    z=1\n",
    "                f1.write(str(z)+\"\\n\")\n",
    "            except:\n",
    "                clear_output()\n",
    "                print(\"Error occured while processing \",z)\n",
    "        if(error==10):\n",
    "            break\n",
    "    f.close()\n",
    "    f1.close()\n",
    "    print(\"Done!\")"
   ]
  },
  {
   "cell_type": "code",
   "execution_count": 8,
   "metadata": {},
   "outputs": [
    {
     "name": "stdout",
     "output_type": "stream",
     "text": [
      "Error occured while processing  0.010.0125\n",
      "Done!\n"
     ]
    }
   ],
   "source": [
    "import os\n",
    "files=os.listdir(\"dirty\")\n",
    "for i in files:\n",
    "    clean(i)"
   ]
  }
 ],
 "metadata": {
  "kernelspec": {
   "display_name": "Python 3",
   "language": "python",
   "name": "python3"
  },
  "language_info": {
   "codemirror_mode": {
    "name": "ipython",
    "version": 3
   },
   "file_extension": ".py",
   "mimetype": "text/x-python",
   "name": "python",
   "nbconvert_exporter": "python",
   "pygments_lexer": "ipython3",
   "version": "3.7.5"
  }
 },
 "nbformat": 4,
 "nbformat_minor": 4
}
