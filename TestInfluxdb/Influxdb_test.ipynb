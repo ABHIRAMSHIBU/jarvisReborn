{
 "cells": [
  {
   "cell_type": "code",
   "execution_count": 3,
   "metadata": {},
   "outputs": [
    {
     "name": "stdout",
     "output_type": "stream",
     "text": [
      "Collecting influxdb\n",
      "\u001b[?25l  Downloading https://files.pythonhosted.org/packages/ef/02/da676b46a3c7b7387151554bd71a15d455ec512222f7f5171ae8607522aa/influxdb-5.2.3-py2.py3-none-any.whl (73kB)\n",
      "\u001b[K     |████████████████████████████████| 81kB 756kB/s eta 0:00:01\n",
      "\u001b[?25hRequirement already satisfied: six>=1.10.0 in /usr/lib/python3.8/site-packages (from influxdb) (1.13.0)\n",
      "Requirement already satisfied: requests>=2.17.0 in /usr/lib/python3.8/site-packages (from influxdb) (2.22.0)\n",
      "Requirement already satisfied: pytz in /usr/lib/python3.8/site-packages (from influxdb) (2019.3)\n",
      "Requirement already satisfied: python-dateutil>=2.6.0 in /usr/lib/python3.8/site-packages (from influxdb) (2.8.1)\n",
      "Requirement already satisfied: chardet>=3.0.2 in /usr/lib/python3.8/site-packages (from requests>=2.17.0->influxdb) (3.0.4)\n",
      "Requirement already satisfied: idna>=2.5 in /usr/lib/python3.8/site-packages (from requests>=2.17.0->influxdb) (2.8)\n",
      "Requirement already satisfied: urllib3>=1.21.1 in /usr/lib/python3.8/site-packages (from requests>=2.17.0->influxdb) (1.25.7)\n",
      "Installing collected packages: influxdb\n",
      "Successfully installed influxdb-5.2.3\n"
     ]
    }
   ],
   "source": [
    "InfluxDBClient=None\n",
    "try:\n",
    "    global InfluxDBClient\n",
    "    from influxdb import InfluxDBClient   # If fail to import, try to install\n",
    "except:\n",
    "    global InfluxDBClient\n",
    "    !sudo pip3 install influxdb\n",
    "    from influxdb import InfluxDBClient"
   ]
  },
  {
   "cell_type": "code",
   "execution_count": 4,
   "metadata": {},
   "outputs": [],
   "source": [
    "client = InfluxDBClient(host='127.0.0.1', port=8086, database='ssal')"
   ]
  },
  {
   "cell_type": "code",
   "execution_count": 6,
   "metadata": {},
   "outputs": [
    {
     "data": {
      "text/plain": [
       "ResultSet({'('databases', None)': [{'name': '_internal'}, {'name': 'ssal'}]})"
      ]
     },
     "execution_count": 6,
     "metadata": {},
     "output_type": "execute_result"
    }
   ],
   "source": [
    "client.query(\"show databases\")"
   ]
  },
  {
   "cell_type": "markdown",
   "metadata": {},
   "source": [
    "# Below code which is markdown is not needed"
   ]
  },
  {
   "cell_type": "markdown",
   "metadata": {},
   "source": [
    "result=_"
   ]
  },
  {
   "cell_type": "markdown",
   "metadata": {},
   "source": [
    "result.raw[\"series\"][0] #getting data from result"
   ]
  },
  {
   "cell_type": "markdown",
   "metadata": {},
   "source": [
    "json_body = [\n",
    "    {\n",
    "        \"measurement\": \"brushEvents\",\n",
    "        \"tags\": {\n",
    "            \"user\": \"Carol\",\n",
    "            \"brushId\": \"6c89f539-71c6-490d-a28d-6c5d84c0ee2f\"\n",
    "        },\n",
    "        \"time\": \"2018-03-28T8:01:00Z\",\n",
    "        \"fields\": {\n",
    "            \"duration\": 127\n",
    "        }\n",
    "    },\n",
    "    {\n",
    "        \"measurement\": \"brushEvents\",\n",
    "        \"tags\": {\n",
    "            \"user\": \"Carol\",\n",
    "            \"brushId\": \"6c89f539-71c6-490d-a28d-6c5d84c0ee2f\"\n",
    "        },\n",
    "        \"time\": \"2018-03-29T8:04:00Z\",\n",
    "        \"fields\": {\n",
    "            \"duration\": 132\n",
    "        }\n",
    "    },\n",
    "    {\n",
    "        \"measurement\": \"brushEvents\",\n",
    "        \"tags\": {\n",
    "            \"user\": \"Carol\",\n",
    "            \"brushId\": \"6c89f539-71c6-490d-a28d-6c5d84c0ee2f\"\n",
    "        },\n",
    "        \"time\": \"2018-03-30T8:02:00Z\",\n",
    "        \"fields\": {\n",
    "            \"duration\": 129\n",
    "        }\n",
    "    }\n",
    "]"
   ]
  },
  {
   "cell_type": "markdown",
   "metadata": {},
   "source": [
    "json_body[0][\"fields\"][\"value\"]"
   ]
  },
  {
   "cell_type": "markdown",
   "metadata": {},
   "source": [
    "client.write_points(json_body)"
   ]
  },
  {
   "cell_type": "markdown",
   "metadata": {},
   "source": [
    "# Continue from here"
   ]
  },
  {
   "cell_type": "code",
   "execution_count": 8,
   "metadata": {},
   "outputs": [],
   "source": [
    "f=open(\"LedOut4\")"
   ]
  },
  {
   "cell_type": "code",
   "execution_count": 9,
   "metadata": {},
   "outputs": [
    {
     "name": "stdout",
     "output_type": "stream",
     "text": [
      "Wrote upto Index: 34915                                                                  \n",
      "Done\n"
     ]
    }
   ],
   "source": [
    "count=0\n",
    "threshold=10\n",
    "index=0\n",
    "size=0\n",
    "insert=[]\n",
    "batchsize=200000\n",
    "from datetime import datetime\n",
    "from IPython.display import clear_output\n",
    "while(True):\n",
    "    z=f.readline().strip()\n",
    "    if(z!=\"\"):\n",
    "        temp={\n",
    "            \"measurement\": \"currentSensor\",\n",
    "            \"tags\": {\n",
    "                \"mcu\": 0,\n",
    "                \"sensor\": 0\n",
    "            },\n",
    "            \"time\": datetime.now(),\n",
    "            \"fields\": {\n",
    "                \"value\": 127\n",
    "            }\n",
    "        }\n",
    "        \n",
    "        temp[\"fields\"][\"value\"]=z\n",
    "        insert.append(temp.copy())\n",
    "        size+=1\n",
    "        #clear_output()\n",
    "        #print(\"Inserted:\",z,\"Index:\",index,\"                                                                     \",end=\"\\r\")\n",
    "        count=0\n",
    "        index+=1\n",
    "    else:\n",
    "        count+=1\n",
    "        print(\"Error Occured                                                                            \",end=\"\\r\")\n",
    "    if(count==threshold):\n",
    "        if(size!=0):\n",
    "            client.write_points(insert)\n",
    "            print(\"Wrote upto Index:\",index)\n",
    "        print(\"Done\")\n",
    "        break\n",
    "    if(size==batchsize):\n",
    "        #print(insert)\n",
    "        client.write_points(insert)\n",
    "        clear_output()\n",
    "        print(\"Wrote upto Index:\",index)\n",
    "        del insert\n",
    "        insert=[]\n",
    "        #break\n",
    "        size=0"
   ]
  },
  {
   "cell_type": "markdown",
   "metadata": {},
   "source": [
    "# Extra..."
   ]
  },
  {
   "cell_type": "code",
   "execution_count": 21,
   "metadata": {},
   "outputs": [
    {
     "data": {
      "text/plain": [
       "'2020-01-20 20:24:46.806785'"
      ]
     },
     "execution_count": 21,
     "metadata": {},
     "output_type": "execute_result"
    }
   ],
   "source": [
    "from datetime import datetime\n",
    "str(datetime.now())"
   ]
  },
  {
   "cell_type": "code",
   "execution_count": 12,
   "metadata": {},
   "outputs": [],
   "source": [
    "insert=[{'measurement': 'currentSensor', 'tags': {'mcu': 0, 'sensor': 0}, 'fields': {'value': '0.16'}}, {'measurement': 'currentSensor', 'tags': {'mcu': 0, 'sensor': 0}, 'fields': {'value': '0.16'}}, {'measurement': 'currentSensor', 'tags': {'mcu': 0, 'sensor': 0}, 'fields': {'value': '0.16'}}, {'measurement': 'currentSensor', 'tags': {'mcu': 0, 'sensor': 0}, 'fields': {'value': '0.16'}}, {'measurement': 'currentSensor', 'tags': {'mcu': 0, 'sensor': 0}, 'fields': {'value': '0.16'}}, {'measurement': 'currentSensor', 'tags': {'mcu': 0, 'sensor': 0}, 'fields': {'value': '0.165'}}, {'measurement': 'currentSensor', 'tags': {'mcu': 0, 'sensor': 0}, 'fields': {'value': '0.17'}}, {'measurement': 'currentSensor', 'tags': {'mcu': 0, 'sensor': 0}, 'fields': {'value': '0.17'}}, {'measurement': 'currentSensor', 'tags': {'mcu': 0, 'sensor': 0}, 'fields': {'value': '0.165'}}, {'measurement': 'currentSensor', 'tags': {'mcu': 0, 'sensor': 0}, 'fields': {'value': '0.165'}}]"
   ]
  },
  {
   "cell_type": "code",
   "execution_count": 13,
   "metadata": {},
   "outputs": [
    {
     "data": {
      "text/plain": [
       "True"
      ]
     },
     "execution_count": 13,
     "metadata": {},
     "output_type": "execute_result"
    }
   ],
   "source": [
    "client.write_points([{'measurement': 'currentSensor', 'tags': {'mcu': 0, 'sensor': 0}, 'fields': {'value': '0.16'}}, {'measurement': 'currentSensor', 'tags': {'mcu': 0, 'sensor': 0}, 'fields': {'value': '0.16'}}, {'measurement': 'currentSensor', 'tags': {'mcu': 0, 'sensor': 0}, 'fields': {'value': '0.16'}}, {'measurement': 'currentSensor', 'tags': {'mcu': 0, 'sensor': 0}, 'fields': {'value': '0.16'}}, {'measurement': 'currentSensor', 'tags': {'mcu': 0, 'sensor': 0}, 'fields': {'value': '0.16'}}, {'measurement': 'currentSensor', 'tags': {'mcu': 0, 'sensor': 0}, 'fields': {'value': '0.165'}}, {'measurement': 'currentSensor', 'tags': {'mcu': 0, 'sensor': 0}, 'fields': {'value': '0.17'}}, {'measurement': 'currentSensor', 'tags': {'mcu': 0, 'sensor': 0}, 'fields': {'value': '0.17'}}, {'measurement': 'currentSensor', 'tags': {'mcu': 0, 'sensor': 0}, 'fields': {'value': '0.165'}}, {'measurement': 'currentSensor', 'tags': {'mcu': 0, 'sensor': 0}, 'fields': {'value': '0.165'}}])"
   ]
  },
  {
   "cell_type": "code",
   "execution_count": 15,
   "metadata": {},
   "outputs": [
    {
     "data": {
      "text/plain": [
       "[{'measurement': 'currentSensor',\n",
       "  'tags': {'mcu': 0, 'sensor': 0},\n",
       "  'fields': {'value': '0.16'}},\n",
       " {'measurement': 'currentSensor',\n",
       "  'tags': {'mcu': 0, 'sensor': 0},\n",
       "  'fields': {'value': '0.16'}},\n",
       " {'measurement': 'currentSensor',\n",
       "  'tags': {'mcu': 0, 'sensor': 0},\n",
       "  'fields': {'value': '0.16'}},\n",
       " {'measurement': 'currentSensor',\n",
       "  'tags': {'mcu': 0, 'sensor': 0},\n",
       "  'fields': {'value': '0.16'}},\n",
       " {'measurement': 'currentSensor',\n",
       "  'tags': {'mcu': 0, 'sensor': 0},\n",
       "  'fields': {'value': '0.16'}},\n",
       " {'measurement': 'currentSensor',\n",
       "  'tags': {'mcu': 0, 'sensor': 0},\n",
       "  'fields': {'value': '0.165'}},\n",
       " {'measurement': 'currentSensor',\n",
       "  'tags': {'mcu': 0, 'sensor': 0},\n",
       "  'fields': {'value': '0.17'}},\n",
       " {'measurement': 'currentSensor',\n",
       "  'tags': {'mcu': 0, 'sensor': 0},\n",
       "  'fields': {'value': '0.17'}},\n",
       " {'measurement': 'currentSensor',\n",
       "  'tags': {'mcu': 0, 'sensor': 0},\n",
       "  'fields': {'value': '0.165'}},\n",
       " {'measurement': 'currentSensor',\n",
       "  'tags': {'mcu': 0, 'sensor': 0},\n",
       "  'fields': {'value': '0.165'}}]"
      ]
     },
     "execution_count": 15,
     "metadata": {},
     "output_type": "execute_result"
    }
   ],
   "source": [
    "insert"
   ]
  },
  {
   "cell_type": "code",
   "execution_count": 16,
   "metadata": {},
   "outputs": [
    {
     "data": {
      "text/plain": [
       "[{'measurement': 'brushEvents',\n",
       "  'tags': {'user': 'Carol', 'brushId': '6c89f539-71c6-490d-a28d-6c5d84c0ee2f'},\n",
       "  'time': '2018-03-28T8:01:00Z',\n",
       "  'fields': {'duration': 127}},\n",
       " {'measurement': 'brushEvents',\n",
       "  'tags': {'user': 'Carol', 'brushId': '6c89f539-71c6-490d-a28d-6c5d84c0ee2f'},\n",
       "  'time': '2018-03-29T8:04:00Z',\n",
       "  'fields': {'duration': 132}},\n",
       " {'measurement': 'brushEvents',\n",
       "  'tags': {'user': 'Carol', 'brushId': '6c89f539-71c6-490d-a28d-6c5d84c0ee2f'},\n",
       "  'time': '2018-03-30T8:02:00Z',\n",
       "  'fields': {'duration': 129}}]"
      ]
     },
     "execution_count": 16,
     "metadata": {},
     "output_type": "execute_result"
    }
   ],
   "source": [
    "json_body"
   ]
  },
  {
   "cell_type": "code",
   "execution_count": 113,
   "metadata": {},
   "outputs": [],
   "source": [
    "del insert"
   ]
  },
  {
   "cell_type": "code",
   "execution_count": 115,
   "metadata": {},
   "outputs": [
    {
     "data": {
      "text/plain": [
       "20"
      ]
     },
     "execution_count": 115,
     "metadata": {},
     "output_type": "execute_result"
    }
   ],
   "source": [
    "import gc\n",
    "gc.collect()"
   ]
  },
  {
   "cell_type": "code",
   "execution_count": 67,
   "metadata": {},
   "outputs": [
    {
     "ename": "InfluxDBServerError",
     "evalue": "b'{\"error\":\"timeout\"}\\n'",
     "output_type": "error",
     "traceback": [
      "\u001b[0;31m---------------------------------------------------------------------------\u001b[0m",
      "\u001b[0;31mInfluxDBServerError\u001b[0m                       Traceback (most recent call last)",
      "\u001b[0;32m<ipython-input-67-f7bc13b7c5bf>\u001b[0m in \u001b[0;36m<module>\u001b[0;34m\u001b[0m\n\u001b[0;32m----> 1\u001b[0;31m \u001b[0mclient\u001b[0m\u001b[0;34m.\u001b[0m\u001b[0mwrite_points\u001b[0m\u001b[0;34m(\u001b[0m\u001b[0mjson_body\u001b[0m\u001b[0;34m)\u001b[0m\u001b[0;34m\u001b[0m\u001b[0;34m\u001b[0m\u001b[0m\n\u001b[0m",
      "\u001b[0;32m/usr/local/lib/python3.7/dist-packages/influxdb/client.py\u001b[0m in \u001b[0;36mwrite_points\u001b[0;34m(self, points, time_precision, database, retention_policy, tags, batch_size, protocol, consistency)\u001b[0m\n\u001b[1;32m    528\u001b[0m                                   \u001b[0mretention_policy\u001b[0m\u001b[0;34m=\u001b[0m\u001b[0mretention_policy\u001b[0m\u001b[0;34m,\u001b[0m\u001b[0;34m\u001b[0m\u001b[0;34m\u001b[0m\u001b[0m\n\u001b[1;32m    529\u001b[0m                                   \u001b[0mtags\u001b[0m\u001b[0;34m=\u001b[0m\u001b[0mtags\u001b[0m\u001b[0;34m,\u001b[0m \u001b[0mprotocol\u001b[0m\u001b[0;34m=\u001b[0m\u001b[0mprotocol\u001b[0m\u001b[0;34m,\u001b[0m\u001b[0;34m\u001b[0m\u001b[0;34m\u001b[0m\u001b[0m\n\u001b[0;32m--> 530\u001b[0;31m                                   consistency=consistency)\n\u001b[0m\u001b[1;32m    531\u001b[0m \u001b[0;34m\u001b[0m\u001b[0m\n\u001b[1;32m    532\u001b[0m     \u001b[0;32mdef\u001b[0m \u001b[0mping\u001b[0m\u001b[0;34m(\u001b[0m\u001b[0mself\u001b[0m\u001b[0;34m)\u001b[0m\u001b[0;34m:\u001b[0m\u001b[0;34m\u001b[0m\u001b[0;34m\u001b[0m\u001b[0m\n",
      "\u001b[0;32m/usr/local/lib/python3.7/dist-packages/influxdb/client.py\u001b[0m in \u001b[0;36m_write_points\u001b[0;34m(self, points, time_precision, database, retention_policy, tags, protocol, consistency)\u001b[0m\n\u001b[1;32m    596\u001b[0m                 \u001b[0mparams\u001b[0m\u001b[0;34m=\u001b[0m\u001b[0mparams\u001b[0m\u001b[0;34m,\u001b[0m\u001b[0;34m\u001b[0m\u001b[0;34m\u001b[0m\u001b[0m\n\u001b[1;32m    597\u001b[0m                 \u001b[0mexpected_response_code\u001b[0m\u001b[0;34m=\u001b[0m\u001b[0;36m204\u001b[0m\u001b[0;34m,\u001b[0m\u001b[0;34m\u001b[0m\u001b[0;34m\u001b[0m\u001b[0m\n\u001b[0;32m--> 598\u001b[0;31m                 \u001b[0mprotocol\u001b[0m\u001b[0;34m=\u001b[0m\u001b[0mprotocol\u001b[0m\u001b[0;34m\u001b[0m\u001b[0;34m\u001b[0m\u001b[0m\n\u001b[0m\u001b[1;32m    599\u001b[0m             )\n\u001b[1;32m    600\u001b[0m \u001b[0;34m\u001b[0m\u001b[0m\n",
      "\u001b[0;32m/usr/local/lib/python3.7/dist-packages/influxdb/client.py\u001b[0m in \u001b[0;36mwrite\u001b[0;34m(self, data, params, expected_response_code, protocol)\u001b[0m\n\u001b[1;32m    341\u001b[0m             \u001b[0mdata\u001b[0m\u001b[0;34m=\u001b[0m\u001b[0mdata\u001b[0m\u001b[0;34m,\u001b[0m\u001b[0;34m\u001b[0m\u001b[0;34m\u001b[0m\u001b[0m\n\u001b[1;32m    342\u001b[0m             \u001b[0mexpected_response_code\u001b[0m\u001b[0;34m=\u001b[0m\u001b[0mexpected_response_code\u001b[0m\u001b[0;34m,\u001b[0m\u001b[0;34m\u001b[0m\u001b[0;34m\u001b[0m\u001b[0m\n\u001b[0;32m--> 343\u001b[0;31m             \u001b[0mheaders\u001b[0m\u001b[0;34m=\u001b[0m\u001b[0mheaders\u001b[0m\u001b[0;34m\u001b[0m\u001b[0;34m\u001b[0m\u001b[0m\n\u001b[0m\u001b[1;32m    344\u001b[0m         )\n\u001b[1;32m    345\u001b[0m         \u001b[0;32mreturn\u001b[0m \u001b[0;32mTrue\u001b[0m\u001b[0;34m\u001b[0m\u001b[0;34m\u001b[0m\u001b[0m\n",
      "\u001b[0;32m/usr/local/lib/python3.7/dist-packages/influxdb/client.py\u001b[0m in \u001b[0;36mrequest\u001b[0;34m(self, url, method, params, data, expected_response_code, headers)\u001b[0m\n\u001b[1;32m    296\u001b[0m         \u001b[0;31m# if there's not an error, there must have been a successful response\u001b[0m\u001b[0;34m\u001b[0m\u001b[0;34m\u001b[0m\u001b[0;34m\u001b[0m\u001b[0m\n\u001b[1;32m    297\u001b[0m         \u001b[0;32mif\u001b[0m \u001b[0;36m500\u001b[0m \u001b[0;34m<=\u001b[0m \u001b[0mresponse\u001b[0m\u001b[0;34m.\u001b[0m\u001b[0mstatus_code\u001b[0m \u001b[0;34m<\u001b[0m \u001b[0;36m600\u001b[0m\u001b[0;34m:\u001b[0m\u001b[0;34m\u001b[0m\u001b[0;34m\u001b[0m\u001b[0m\n\u001b[0;32m--> 298\u001b[0;31m             \u001b[0;32mraise\u001b[0m \u001b[0mInfluxDBServerError\u001b[0m\u001b[0;34m(\u001b[0m\u001b[0mresponse\u001b[0m\u001b[0;34m.\u001b[0m\u001b[0mcontent\u001b[0m\u001b[0;34m)\u001b[0m\u001b[0;34m\u001b[0m\u001b[0;34m\u001b[0m\u001b[0m\n\u001b[0m\u001b[1;32m    299\u001b[0m         \u001b[0;32melif\u001b[0m \u001b[0mresponse\u001b[0m\u001b[0;34m.\u001b[0m\u001b[0mstatus_code\u001b[0m \u001b[0;34m==\u001b[0m \u001b[0mexpected_response_code\u001b[0m\u001b[0;34m:\u001b[0m\u001b[0;34m\u001b[0m\u001b[0;34m\u001b[0m\u001b[0m\n\u001b[1;32m    300\u001b[0m             \u001b[0;32mreturn\u001b[0m \u001b[0mresponse\u001b[0m\u001b[0;34m\u001b[0m\u001b[0;34m\u001b[0m\u001b[0m\n",
      "\u001b[0;31mInfluxDBServerError\u001b[0m: b'{\"error\":\"timeout\"}\\n'"
     ]
    }
   ],
   "source": [
    "client.write_points(json_body)"
   ]
  },
  {
   "cell_type": "code",
   "execution_count": 60,
   "metadata": {},
   "outputs": [
    {
     "data": {
      "text/plain": [
       "ResultSet({'('brushEvents', None)': [{'time': '2018-03-28T08:01:00Z', 'brushId': '6c89f539-71c6-490d-a28d-6c5d84c0ee2f', 'duration': 127, 'user': 'Carol'}, {'time': '2018-03-29T08:04:00Z', 'brushId': '6c89f539-71c6-490d-a28d-6c5d84c0ee2f', 'duration': 132, 'user': 'Carol'}, {'time': '2018-03-30T08:02:00Z', 'brushId': '6c89f539-71c6-490d-a28d-6c5d84c0ee2f', 'duration': 129, 'user': 'Carol'}]})"
      ]
     },
     "execution_count": 60,
     "metadata": {},
     "output_type": "execute_result"
    }
   ],
   "source": [
    "client.query(\"select * from brushEvents\")"
   ]
  },
  {
   "cell_type": "code",
   "execution_count": 52,
   "metadata": {},
   "outputs": [],
   "source": [
    "client.close()"
   ]
  }
 ],
 "metadata": {
  "kernelspec": {
   "display_name": "Python 3",
   "language": "python",
   "name": "python3"
  },
  "language_info": {
   "codemirror_mode": {
    "name": "ipython",
    "version": 3
   },
   "file_extension": ".py",
   "mimetype": "text/x-python",
   "name": "python",
   "nbconvert_exporter": "python",
   "pygments_lexer": "ipython3",
   "version": "3.8.1"
  }
 },
 "nbformat": 4,
 "nbformat_minor": 4
}
